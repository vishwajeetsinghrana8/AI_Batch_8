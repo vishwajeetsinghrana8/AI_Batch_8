{
 "cells": [
  {
   "cell_type": "markdown",
   "metadata": {},
   "source": [
    "# File I/O"
   ]
  },
  {
   "cell_type": "code",
   "execution_count": 1,
   "metadata": {
    "collapsed": true,
    "jupyter": {
     "outputs_hidden": true
    }
   },
   "outputs": [
    {
     "name": "stdout",
     "output_type": "stream",
     "text": [
      "'Twas brillig, and the slithy toves\n",
      "\n",
      "Did gyre and gimble in the wabe;\n",
      "\n",
      "All mimsy were the borogoves,\n",
      "\n",
      "And the mome raths outgrabe.\n",
      "\n",
      "\n",
      "\n",
      "\"Beware the Jabberwock, my son!\n",
      "\n",
      "The jaws that bite, the claws that catch!\n",
      "\n",
      "Beware the Jubjub bird, and shun\n",
      "\n",
      "The frumious Bandersnatch!\"\n",
      "\n",
      "\n",
      "\n",
      "He took his vorpal sword in hand:\n",
      "\n",
      "Long time the manxome foe he sought,\n",
      "\n",
      "So rested he by the Tumtum tree,\n",
      "\n",
      "And stood a while in thought.\n",
      "\n",
      "\n",
      "\n",
      "And, as in uffish thought he stood,\n",
      "\n",
      "The Jabberwock, with eyes of flame,\n",
      "\n",
      "Came whiffling through the tulgey wood,\n",
      "\n",
      "And burbled as it came!\n",
      "\n",
      "\n",
      "\n",
      "One two! One two! And through and through\n",
      "\n",
      "The vorpal blade went snicker-snack!\n",
      "\n",
      "He left it dead, and with its head\n",
      "\n",
      "He went galumphing back.\n",
      "\n",
      "\n",
      "\n",
      "\"And hast thou slain the Jabberwock?\n",
      "\n",
      "Come to my arms, my beamish boy!\"\n",
      "\n",
      "\"Oh frabjous day! Callooh! Callay!\"\n",
      "\n",
      "He chortled in his joy.\n",
      "\n",
      "\n",
      "\n",
      "'Twas brillig, and the slithy toves\n",
      "\n",
      "Did gyre and gimble in the wabe:\n",
      "\n",
      "All mimsy were the borogoves,\n",
      "\n",
      "And the mome raths outgrabe.\n",
      "\n",
      "\n",
      "\n"
     ]
    }
   ],
   "source": [
    "file = open(\"sample.txt\", 'r')\n",
    "\n",
    "for line in file:\n",
    "    print(line)\n",
    "    \n",
    "file.close()"
   ]
  },
  {
   "cell_type": "code",
   "execution_count": 5,
   "metadata": {},
   "outputs": [
    {
     "name": "stdout",
     "output_type": "stream",
     "text": [
      "\"Beware the Jabberwock, my son!\n",
      "The Jabberwock, with eyes of flame,\n",
      "\"And hast thou slain the Jabberwock?\n"
     ]
    }
   ],
   "source": [
    "file = open(\"sample.txt\", 'r')\n",
    "\n",
    "for line in file:\n",
    "    if \"jabberwock\" in line.lower():\n",
    "        print(line, end='')\n",
    "    \n",
    "file.close()"
   ]
  },
  {
   "cell_type": "code",
   "execution_count": 4,
   "metadata": {},
   "outputs": [
    {
     "name": "stdout",
     "output_type": "stream",
     "text": [
      "123456"
     ]
    }
   ],
   "source": [
    "l1 = [1,2,3,4,5,6]\n",
    "\n",
    "for v in l1:\n",
    "    print(v, end = '')"
   ]
  },
  {
   "cell_type": "code",
   "execution_count": 6,
   "metadata": {},
   "outputs": [
    {
     "name": "stdout",
     "output_type": "stream",
     "text": [
      "\"Beware the Jabberwock, my son!\n",
      "The Jabberwock, with eyes of flame,\n",
      "\"And hast thou slain the Jabberwock?\n"
     ]
    }
   ],
   "source": [
    "with open('sample.txt', 'r') as file:\n",
    "    for line in file:\n",
    "        if \"jabberwock\" in line.lower():\n",
    "            print(line, end=\"\")"
   ]
  },
  {
   "cell_type": "code",
   "execution_count": 10,
   "metadata": {
    "collapsed": true,
    "jupyter": {
     "outputs_hidden": true
    }
   },
   "outputs": [
    {
     "name": "stdout",
     "output_type": "stream",
     "text": [
      "'Twas brillig, and the slithy toves\n",
      "Did gyre and gimble in the wabe;\n",
      "All mimsy were the borogoves,\n",
      "And the mome raths outgrabe.\n",
      "\n",
      "\"Beware the Jabberwock, my son!\n",
      "The jaws that bite, the claws that catch!\n",
      "Beware the Jubjub bird, and shun\n",
      "The frumious Bandersnatch!\"\n",
      "\n",
      "He took his vorpal sword in hand:\n",
      "Long time the manxome foe he sought,\n",
      "So rested he by the Tumtum tree,\n",
      "And stood a while in thought.\n",
      "\n",
      "And, as in uffish thought he stood,\n",
      "The Jabberwock, with eyes of flame,\n",
      "Came whiffling through the tulgey wood,\n",
      "And burbled as it came!\n",
      "\n",
      "One two! One two! And through and through\n",
      "The vorpal blade went snicker-snack!\n",
      "He left it dead, and with its head\n",
      "He went galumphing back.\n",
      "\n",
      "\"And hast thou slain the Jabberwock?\n",
      "Come to my arms, my beamish boy!\"\n",
      "\"Oh frabjous day! Callooh! Callay!\"\n",
      "He chortled in his joy.\n",
      "\n",
      "'Twas brillig, and the slithy toves\n",
      "Did gyre and gimble in the wabe:\n",
      "All mimsy were the borogoves,\n",
      "And the mome raths outgrabe.\n",
      "\n"
     ]
    }
   ],
   "source": [
    "with open('sample.txt', 'r') as file:\n",
    "    line = file.readline()\n",
    "\n",
    "    while line:\n",
    "        print(line, end ='')\n",
    "        line = file.readline()"
   ]
  },
  {
   "cell_type": "markdown",
   "metadata": {},
   "source": [
    "# Writing data"
   ]
  },
  {
   "cell_type": "code",
   "execution_count": 24,
   "metadata": {},
   "outputs": [],
   "source": [
    "cities = ['Meerut', 'Delhi', 'Hyderabad', 'Pune', 'Mumbai']\n",
    "\n",
    "with open('cities.txt', 'w') as city_file:\n",
    "    for city in cities:\n",
    "        print(city, file=city_file)"
   ]
  },
  {
   "cell_type": "code",
   "execution_count": 25,
   "metadata": {},
   "outputs": [
    {
     "name": "stdout",
     "output_type": "stream",
     "text": [
      "['Meerut', 'Delhi', 'Hyderabad', 'Pune', 'Mumbai']\n",
      "Meerut\n",
      "Delhi\n",
      "Hyderabad\n",
      "Pune\n",
      "Mumbai\n"
     ]
    }
   ],
   "source": [
    "l1 = []\n",
    "with open('cities.txt','r') as city_file:\n",
    "    for city in city_file:\n",
    "        l1.append(city.strip('\\n'))\n",
    "print(l1)\n",
    "for city in l1:\n",
    "    print(city)"
   ]
  },
  {
   "cell_type": "code",
   "execution_count": 14,
   "metadata": {},
   "outputs": [
    {
     "name": "stdout",
     "output_type": "stream",
     "text": [
      "eerut\n"
     ]
    }
   ],
   "source": [
    "print(\"Meerut\".strip('M'))"
   ]
  },
  {
   "cell_type": "markdown",
   "metadata": {},
   "source": [
    "# Append Mode"
   ]
  },
  {
   "cell_type": "code",
   "execution_count": 18,
   "metadata": {},
   "outputs": [],
   "source": [
    "c = [\"Agra\",\"Patna\",\"Mathura\"]\n",
    "\n",
    "with open('cities.txt','a') as cities:\n",
    "    for city in c:\n",
    "        print(f\"{city}\", file=cities)"
   ]
  },
  {
   "cell_type": "code",
   "execution_count": 20,
   "metadata": {},
   "outputs": [
    {
     "name": "stdout",
     "output_type": "stream",
     "text": [
      "['Meerut', 'Delhi', 'Hyderabad', 'Pune', 'Mumbai', 'Agra', 'Patna', 'Mathura']\n",
      "Meerut\n",
      "Delhi\n",
      "Hyderabad\n",
      "Pune\n",
      "Mumbai\n",
      "Agra\n",
      "Patna\n",
      "Mathura\n"
     ]
    }
   ],
   "source": [
    "l1 = []\n",
    "with open('cities.txt','r') as city_file:\n",
    "    for city in city_file:\n",
    "        l1.append(city.strip('\\n'))\n",
    "print(l1)\n",
    "for city in l1:\n",
    "    print(city)"
   ]
  },
  {
   "cell_type": "code",
   "execution_count": 27,
   "metadata": {},
   "outputs": [],
   "source": [
    "with open('cities.txt','a') as tb:\n",
    "    for t in range(2,16):\n",
    "        for i in range(1,11):\n",
    "            print(f\"{t}*{i}={t*i}\", file= tb)\n",
    "        print(\"=\"*30, file=tb)"
   ]
  },
  {
   "cell_type": "code",
   "execution_count": 28,
   "metadata": {
    "collapsed": true,
    "jupyter": {
     "outputs_hidden": true
    }
   },
   "outputs": [
    {
     "name": "stdout",
     "output_type": "stream",
     "text": [
      "['Meerut', 'Delhi', 'Hyderabad', 'Pune', 'Mumbai', 'Agra', 'Patna', 'Mathura', '2*1=2', '2*2=4', '2*3=6', '2*4=8', '2*5=10', '2*6=12', '2*7=14', '2*8=16', '2*9=18', '2*10=20', '==============================', '3*1=3', '3*2=6', '3*3=9', '3*4=12', '3*5=15', '3*6=18', '3*7=21', '3*8=24', '3*9=27', '3*10=30', '==============================', '4*1=4', '4*2=8', '4*3=12', '4*4=16', '4*5=20', '4*6=24', '4*7=28', '4*8=32', '4*9=36', '4*10=40', '==============================', '5*1=5', '5*2=10', '5*3=15', '5*4=20', '5*5=25', '5*6=30', '5*7=35', '5*8=40', '5*9=45', '5*10=50', '==============================', '6*1=6', '6*2=12', '6*3=18', '6*4=24', '6*5=30', '6*6=36', '6*7=42', '6*8=48', '6*9=54', '6*10=60', '==============================', '7*1=7', '7*2=14', '7*3=21', '7*4=28', '7*5=35', '7*6=42', '7*7=49', '7*8=56', '7*9=63', '7*10=70', '==============================', '8*1=8', '8*2=16', '8*3=24', '8*4=32', '8*5=40', '8*6=48', '8*7=56', '8*8=64', '8*9=72', '8*10=80', '==============================', '9*1=9', '9*2=18', '9*3=27', '9*4=36', '9*5=45', '9*6=54', '9*7=63', '9*8=72', '9*9=81', '9*10=90', '==============================', '10*1=10', '10*2=20', '10*3=30', '10*4=40', '10*5=50', '10*6=60', '10*7=70', '10*8=80', '10*9=90', '10*10=100', '==============================', '11*1=11', '11*2=22', '11*3=33', '11*4=44', '11*5=55', '11*6=66', '11*7=77', '11*8=88', '11*9=99', '11*10=110', '==============================', '12*1=12', '12*2=24', '12*3=36', '12*4=48', '12*5=60', '12*6=72', '12*7=84', '12*8=96', '12*9=108', '12*10=120', '==============================', '13*1=13', '13*2=26', '13*3=39', '13*4=52', '13*5=65', '13*6=78', '13*7=91', '13*8=104', '13*9=117', '13*10=130', '==============================', '14*1=14', '14*2=28', '14*3=42', '14*4=56', '14*5=70', '14*6=84', '14*7=98', '14*8=112', '14*9=126', '14*10=140', '==============================', '15*1=15', '15*2=30', '15*3=45', '15*4=60', '15*5=75', '15*6=90', '15*7=105', '15*8=120', '15*9=135', '15*10=150', '==============================']\n",
      "Meerut\n",
      "Delhi\n",
      "Hyderabad\n",
      "Pune\n",
      "Mumbai\n",
      "Agra\n",
      "Patna\n",
      "Mathura\n",
      "2*1=2\n",
      "2*2=4\n",
      "2*3=6\n",
      "2*4=8\n",
      "2*5=10\n",
      "2*6=12\n",
      "2*7=14\n",
      "2*8=16\n",
      "2*9=18\n",
      "2*10=20\n",
      "==============================\n",
      "3*1=3\n",
      "3*2=6\n",
      "3*3=9\n",
      "3*4=12\n",
      "3*5=15\n",
      "3*6=18\n",
      "3*7=21\n",
      "3*8=24\n",
      "3*9=27\n",
      "3*10=30\n",
      "==============================\n",
      "4*1=4\n",
      "4*2=8\n",
      "4*3=12\n",
      "4*4=16\n",
      "4*5=20\n",
      "4*6=24\n",
      "4*7=28\n",
      "4*8=32\n",
      "4*9=36\n",
      "4*10=40\n",
      "==============================\n",
      "5*1=5\n",
      "5*2=10\n",
      "5*3=15\n",
      "5*4=20\n",
      "5*5=25\n",
      "5*6=30\n",
      "5*7=35\n",
      "5*8=40\n",
      "5*9=45\n",
      "5*10=50\n",
      "==============================\n",
      "6*1=6\n",
      "6*2=12\n",
      "6*3=18\n",
      "6*4=24\n",
      "6*5=30\n",
      "6*6=36\n",
      "6*7=42\n",
      "6*8=48\n",
      "6*9=54\n",
      "6*10=60\n",
      "==============================\n",
      "7*1=7\n",
      "7*2=14\n",
      "7*3=21\n",
      "7*4=28\n",
      "7*5=35\n",
      "7*6=42\n",
      "7*7=49\n",
      "7*8=56\n",
      "7*9=63\n",
      "7*10=70\n",
      "==============================\n",
      "8*1=8\n",
      "8*2=16\n",
      "8*3=24\n",
      "8*4=32\n",
      "8*5=40\n",
      "8*6=48\n",
      "8*7=56\n",
      "8*8=64\n",
      "8*9=72\n",
      "8*10=80\n",
      "==============================\n",
      "9*1=9\n",
      "9*2=18\n",
      "9*3=27\n",
      "9*4=36\n",
      "9*5=45\n",
      "9*6=54\n",
      "9*7=63\n",
      "9*8=72\n",
      "9*9=81\n",
      "9*10=90\n",
      "==============================\n",
      "10*1=10\n",
      "10*2=20\n",
      "10*3=30\n",
      "10*4=40\n",
      "10*5=50\n",
      "10*6=60\n",
      "10*7=70\n",
      "10*8=80\n",
      "10*9=90\n",
      "10*10=100\n",
      "==============================\n",
      "11*1=11\n",
      "11*2=22\n",
      "11*3=33\n",
      "11*4=44\n",
      "11*5=55\n",
      "11*6=66\n",
      "11*7=77\n",
      "11*8=88\n",
      "11*9=99\n",
      "11*10=110\n",
      "==============================\n",
      "12*1=12\n",
      "12*2=24\n",
      "12*3=36\n",
      "12*4=48\n",
      "12*5=60\n",
      "12*6=72\n",
      "12*7=84\n",
      "12*8=96\n",
      "12*9=108\n",
      "12*10=120\n",
      "==============================\n",
      "13*1=13\n",
      "13*2=26\n",
      "13*3=39\n",
      "13*4=52\n",
      "13*5=65\n",
      "13*6=78\n",
      "13*7=91\n",
      "13*8=104\n",
      "13*9=117\n",
      "13*10=130\n",
      "==============================\n",
      "14*1=14\n",
      "14*2=28\n",
      "14*3=42\n",
      "14*4=56\n",
      "14*5=70\n",
      "14*6=84\n",
      "14*7=98\n",
      "14*8=112\n",
      "14*9=126\n",
      "14*10=140\n",
      "==============================\n",
      "15*1=15\n",
      "15*2=30\n",
      "15*3=45\n",
      "15*4=60\n",
      "15*5=75\n",
      "15*6=90\n",
      "15*7=105\n",
      "15*8=120\n",
      "15*9=135\n",
      "15*10=150\n",
      "==============================\n"
     ]
    }
   ],
   "source": [
    "# Write\n",
    "cities = ['Meerut', 'Delhi', 'Hyderabad', 'Pune', 'Mumbai']\n",
    "\n",
    "with open('city.txt', 'w') as city_file:\n",
    "    for city in cities:\n",
    "        print(city, file=city_file)\n",
    "        \n",
    "# Append\n",
    "c = [\"Agra\",\"Patna\",\"Mathura\"]\n",
    "\n",
    "with open('city.txt','a') as cities:\n",
    "    for city in c:\n",
    "        print(f\"{city}\", file=cities)\n",
    "\n",
    "\n",
    "with open('city.txt','a') as tb:\n",
    "    for t in range(2,16):\n",
    "        for i in range(1,11):\n",
    "            print(f\"{t}*{i}={t*i}\", file= tb)\n",
    "        print(\"=\"*30, file=tb)\n",
    "        \n",
    "# Read      \n",
    "l1 = []\n",
    "with open('city.txt','r') as city_file:\n",
    "    for city in city_file:\n",
    "        l1.append(city.strip('\\n'))\n",
    "print(l1)\n",
    "for city in l1:\n",
    "    print(city)"
   ]
  },
  {
   "cell_type": "code",
   "execution_count": 29,
   "metadata": {},
   "outputs": [],
   "source": [
    "my_file = open('test.txt','w+')"
   ]
  },
  {
   "cell_type": "code",
   "execution_count": 30,
   "metadata": {},
   "outputs": [
    {
     "data": {
      "text/plain": [
       "27"
      ]
     },
     "execution_count": 30,
     "metadata": {},
     "output_type": "execute_result"
    }
   ],
   "source": [
    "my_file.write(\"This is line one of my file\")"
   ]
  },
  {
   "cell_type": "code",
   "execution_count": 31,
   "metadata": {},
   "outputs": [
    {
     "data": {
      "text/plain": [
       "''"
      ]
     },
     "execution_count": 31,
     "metadata": {},
     "output_type": "execute_result"
    }
   ],
   "source": [
    "my_file.read()"
   ]
  },
  {
   "cell_type": "code",
   "execution_count": 32,
   "metadata": {},
   "outputs": [
    {
     "data": {
      "text/plain": [
       "0"
      ]
     },
     "execution_count": 32,
     "metadata": {},
     "output_type": "execute_result"
    }
   ],
   "source": [
    "my_file.seek(0)"
   ]
  },
  {
   "cell_type": "code",
   "execution_count": 33,
   "metadata": {},
   "outputs": [
    {
     "data": {
      "text/plain": [
       "'This is line one of my file'"
      ]
     },
     "execution_count": 33,
     "metadata": {},
     "output_type": "execute_result"
    }
   ],
   "source": [
    "my_file.read()"
   ]
  },
  {
   "cell_type": "code",
   "execution_count": 34,
   "metadata": {},
   "outputs": [
    {
     "data": {
      "text/plain": [
       "''"
      ]
     },
     "execution_count": 34,
     "metadata": {},
     "output_type": "execute_result"
    }
   ],
   "source": [
    "my_file.read()"
   ]
  },
  {
   "cell_type": "markdown",
   "metadata": {},
   "source": [
    "# Exception Handling"
   ]
  },
  {
   "cell_type": "code",
   "execution_count": 36,
   "metadata": {},
   "outputs": [
    {
     "ename": "ZeroDivisionError",
     "evalue": "division by zero",
     "output_type": "error",
     "traceback": [
      "\u001b[0;31m---------------------------------------------------------------------------\u001b[0m",
      "\u001b[0;31mZeroDivisionError\u001b[0m                         Traceback (most recent call last)",
      "\u001b[0;32m<ipython-input-36-e574edb36883>\u001b[0m in \u001b[0;36m<module>\u001b[0;34m\u001b[0m\n\u001b[0;32m----> 1\u001b[0;31m \u001b[0;36m10\u001b[0m\u001b[0;34m/\u001b[0m\u001b[0;36m0\u001b[0m\u001b[0;34m\u001b[0m\u001b[0;34m\u001b[0m\u001b[0m\n\u001b[0m",
      "\u001b[0;31mZeroDivisionError\u001b[0m: division by zero"
     ]
    }
   ],
   "source": [
    "10/0"
   ]
  },
  {
   "cell_type": "code",
   "execution_count": 37,
   "metadata": {},
   "outputs": [
    {
     "ename": "UnsupportedOperation",
     "evalue": "not writable",
     "output_type": "error",
     "traceback": [
      "\u001b[0;31m---------------------------------------------------------------------------\u001b[0m",
      "\u001b[0;31mUnsupportedOperation\u001b[0m                      Traceback (most recent call last)",
      "\u001b[0;32m<ipython-input-37-7e0bf478dc58>\u001b[0m in \u001b[0;36m<module>\u001b[0;34m\u001b[0m\n\u001b[1;32m      1\u001b[0m \u001b[0mf\u001b[0m \u001b[0;34m=\u001b[0m \u001b[0mopen\u001b[0m\u001b[0;34m(\u001b[0m\u001b[0;34m'cities.txt'\u001b[0m\u001b[0;34m)\u001b[0m\u001b[0;34m\u001b[0m\u001b[0;34m\u001b[0m\u001b[0m\n\u001b[0;32m----> 2\u001b[0;31m \u001b[0mf\u001b[0m\u001b[0;34m.\u001b[0m\u001b[0mwrite\u001b[0m\u001b[0;34m(\u001b[0m\u001b[0;34m\"dfgsdfgdgf\"\u001b[0m\u001b[0;34m)\u001b[0m\u001b[0;34m\u001b[0m\u001b[0;34m\u001b[0m\u001b[0m\n\u001b[0m",
      "\u001b[0;31mUnsupportedOperation\u001b[0m: not writable"
     ]
    }
   ],
   "source": [
    "f = open('cities.txt')\n",
    "f.write(\"dfgsdfgdgf\")"
   ]
  },
  {
   "cell_type": "code",
   "execution_count": 38,
   "metadata": {},
   "outputs": [
    {
     "ename": "SyntaxError",
     "evalue": "EOL while scanning string literal (<ipython-input-38-fc17ee047f54>, line 1)",
     "output_type": "error",
     "traceback": [
      "\u001b[0;36m  File \u001b[0;32m\"<ipython-input-38-fc17ee047f54>\"\u001b[0;36m, line \u001b[0;32m1\u001b[0m\n\u001b[0;31m    print('Knowledge Shelf)\u001b[0m\n\u001b[0m                           ^\u001b[0m\n\u001b[0;31mSyntaxError\u001b[0m\u001b[0;31m:\u001b[0m EOL while scanning string literal\n"
     ]
    }
   ],
   "source": [
    "print('Knowledge Shelf)"
   ]
  },
  {
   "cell_type": "markdown",
   "metadata": {},
   "source": [
    "# try & except "
   ]
  },
  {
   "cell_type": "code",
   "execution_count": 39,
   "metadata": {},
   "outputs": [
    {
     "name": "stdout",
     "output_type": "stream",
     "text": [
      "This block is having an error: division by zero\n"
     ]
    }
   ],
   "source": [
    "try:\n",
    "    10/0  \n",
    "except Exception as e:\n",
    "    print(\"This block is having an error:\",e)"
   ]
  },
  {
   "cell_type": "code",
   "execution_count": 1,
   "metadata": {},
   "outputs": [
    {
     "name": "stdin",
     "output_type": "stream",
     "text": [
      "Enter the value of var1: 12\n",
      "Enter the value of var2: 5\n"
     ]
    },
    {
     "name": "stdout",
     "output_type": "stream",
     "text": [
      "Multiply: 60\n",
      "You are out of Infinit loop\n"
     ]
    }
   ],
   "source": [
    "while True:\n",
    "    try:\n",
    "        var1 = int(input(\"Enter the value of var1:\"))\n",
    "        var2 = int(input(\"Enter the value of var2:\"))\n",
    "        var3 = var1 * var2\n",
    "        print(\"Multiply:\",var3)\n",
    "    \n",
    "    except:\n",
    "        print(\"Invalid input found.\")\n",
    "        print(\"Please input 'int' values.\")\n",
    "        \n",
    "    else:\n",
    "        print(\"You are out of Infinit loop\")\n",
    "        break\n",
    "    "
   ]
  },
  {
   "cell_type": "code",
   "execution_count": 2,
   "metadata": {},
   "outputs": [
    {
     "name": "stdout",
     "output_type": "stream",
     "text": [
      "This opreation is not valid.\n"
     ]
    },
    {
     "name": "stdin",
     "output_type": "stream",
     "text": [
      " 12\n"
     ]
    },
    {
     "name": "stdout",
     "output_type": "stream",
     "text": [
      "48\n",
      "Operation ended.\n"
     ]
    }
   ],
   "source": [
    "try:\n",
    "    f = open('cities.txt')\n",
    "    print(f.write(\"vishwajeet\"))\n",
    "\n",
    "except:\n",
    "    print(\"This opreation is not valid.\")\n",
    "    try:\n",
    "        var1 = int(input())\n",
    "        var3 = var1 * 4\n",
    "        print(var3)\n",
    "    except:\n",
    "        print(\"This is nested try except block\")\n",
    "    else:\n",
    "        print(\"Operation ended.\")\n",
    "        \n"
   ]
  },
  {
   "cell_type": "code",
   "execution_count": 4,
   "metadata": {},
   "outputs": [
    {
     "name": "stdin",
     "output_type": "stream",
     "text": [
      "Enter the value: 3\n"
     ]
    },
    {
     "name": "stdout",
     "output_type": "stream",
     "text": [
      "59049\n",
      "this will execute itself once try will excute.\n",
      "This is my final stage of code.\n"
     ]
    }
   ],
   "source": [
    "try:\n",
    "    var1 = int(input(\"Enter the value:\"))\n",
    "    var3 = var1 ** 10\n",
    "    print(var3)\n",
    "except:\n",
    "    print(\"Invalid input\")\n",
    "else:\n",
    "    print(\"this will execute itself once try will excute.\")\n",
    "finally:\n",
    "    print(\"This is my final stage of code.\")"
   ]
  },
  {
   "cell_type": "code",
   "execution_count": 10,
   "metadata": {},
   "outputs": [],
   "source": [
    "def func1():\n",
    "    try:\n",
    "        var1 = int(input(\"Enter the value:\"))\n",
    "        print(var1)\n",
    "    except:\n",
    "        print(\"Looks like you have entered a wrong value.\")\n",
    "    finally:\n",
    "        print(\"Finally, I executed!!!.\")\n",
    "    "
   ]
  },
  {
   "cell_type": "code",
   "execution_count": 7,
   "metadata": {},
   "outputs": [
    {
     "name": "stdin",
     "output_type": "stream",
     "text": [
      "Enter the value: 12\n"
     ]
    },
    {
     "name": "stdout",
     "output_type": "stream",
     "text": [
      "Finally, I executed!!!.\n",
      "12\n"
     ]
    }
   ],
   "source": [
    "func1()"
   ]
  },
  {
   "cell_type": "code",
   "execution_count": 11,
   "metadata": {},
   "outputs": [
    {
     "name": "stdin",
     "output_type": "stream",
     "text": [
      "Enter the value: vishwajeet\n"
     ]
    },
    {
     "name": "stdout",
     "output_type": "stream",
     "text": [
      "Looks like you have entered a wrong value.\n",
      "Finally, I executed!!!.\n"
     ]
    }
   ],
   "source": [
    "func1()"
   ]
  },
  {
   "cell_type": "code",
   "execution_count": null,
   "metadata": {},
   "outputs": [],
   "source": []
  }
 ],
 "metadata": {
  "kernelspec": {
   "display_name": "Python 3",
   "language": "python",
   "name": "python3"
  },
  "language_info": {
   "codemirror_mode": {
    "name": "ipython",
    "version": 3
   },
   "file_extension": ".py",
   "mimetype": "text/x-python",
   "name": "python",
   "nbconvert_exporter": "python",
   "pygments_lexer": "ipython3",
   "version": "3.8.5"
  }
 },
 "nbformat": 4,
 "nbformat_minor": 4
}
