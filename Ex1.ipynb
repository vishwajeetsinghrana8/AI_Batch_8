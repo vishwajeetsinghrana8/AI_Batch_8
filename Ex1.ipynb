{
 "cells": [
  {
   "cell_type": "code",
   "execution_count": 14,
   "metadata": {},
   "outputs": [
    {
     "name": "stdout",
     "output_type": "stream",
     "text": [
      "Vishwajeet\n"
     ]
    }
   ],
   "source": [
    "print(\"Vishwajeet\")"
   ]
  },
  {
   "cell_type": "markdown",
   "metadata": {},
   "source": [
    "This is my firat class of AI\n",
    "\n",
    "# Knowledge Shelf\n",
    "## Knowledge Shelf\n",
    "### Knowledge Shelf\n",
    "#### Knowledge Shelf\n",
    "##### Knowledge Shelf\n",
    "###### Knowledge Shelf\n",
    "###### Knowledge Shelf\n",
    "\n",
    "**Knowledge Shelf**\n",
    "<br>\n",
    "_Knowledge shelf_\n",
    "\n",
    " <img src=\"lena.png\" alt=\"Girl in a jacket\"  width=\"250\" height=\"255\"> \n",
    " \n",
    " <br>\n",
    " \n",
    " [Knowledge Shelf](https://knowledgeshelfit.com/)\n",
    " \n",
    " - This is first line.\n",
    " - This is second line."
   ]
  },
  {
   "cell_type": "code",
   "execution_count": null,
   "metadata": {},
   "outputs": [],
   "source": []
  },
  {
   "cell_type": "code",
   "execution_count": null,
   "metadata": {},
   "outputs": [],
   "source": []
  },
  {
   "cell_type": "code",
   "execution_count": null,
   "metadata": {},
   "outputs": [],
   "source": []
  },
  {
   "cell_type": "code",
   "execution_count": null,
   "metadata": {},
   "outputs": [],
   "source": []
  },
  {
   "cell_type": "code",
   "execution_count": null,
   "metadata": {},
   "outputs": [],
   "source": []
  },
  {
   "cell_type": "code",
   "execution_count": null,
   "metadata": {},
   "outputs": [],
   "source": []
  },
  {
   "cell_type": "code",
   "execution_count": null,
   "metadata": {},
   "outputs": [],
   "source": []
  },
  {
   "cell_type": "code",
   "execution_count": null,
   "metadata": {},
   "outputs": [],
   "source": []
  },
  {
   "cell_type": "code",
   "execution_count": null,
   "metadata": {},
   "outputs": [],
   "source": []
  }
 ],
 "metadata": {
  "kernelspec": {
   "display_name": "Python 3",
   "language": "python",
   "name": "python3"
  },
  "language_info": {
   "codemirror_mode": {
    "name": "ipython",
    "version": 3
   },
   "file_extension": ".py",
   "mimetype": "text/x-python",
   "name": "python",
   "nbconvert_exporter": "python",
   "pygments_lexer": "ipython3",
   "version": "3.8.2"
  }
 },
 "nbformat": 4,
 "nbformat_minor": 4
}
